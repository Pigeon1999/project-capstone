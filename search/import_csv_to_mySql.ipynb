{
 "cells": [
  {
   "cell_type": "code",
   "execution_count": 9,
   "id": "06d2a336",
   "metadata": {
    "collapsed": true
   },
   "outputs": [
    {
     "name": "stdout",
     "output_type": "stream",
     "text": [
      "<class 'pandas.core.frame.DataFrame'>\n",
      "RangeIndex: 4123 entries, 0 to 4122\n",
      "Data columns (total 23 columns):\n",
      " #   Column             Non-Null Count  Dtype  \n",
      "---  ------             --------------  -----  \n",
      " 0   id                 4123 non-null   int64  \n",
      " 1   created            4123 non-null   object \n",
      " 2   modified           4123 non-null   object \n",
      " 3   remark             0 non-null      float64\n",
      " 4   num_approval       1948 non-null   float64\n",
      " 5   card_company       4123 non-null   object \n",
      " 6   card_category      4123 non-null   object \n",
      " 7   card_number        1960 non-null   object \n",
      " 8   amount_sale        4123 non-null   int64  \n",
      " 9   amount_fee         4123 non-null   int64  \n",
      " 10  amount_deposit     4123 non-null   int64  \n",
      " 11  is_canceled        4123 non-null   bool   \n",
      " 12  sold_at            4123 non-null   object \n",
      " 13  will_deposited_at  4123 non-null   object \n",
      " 14  raw_data           4119 non-null   object \n",
      " 15  platform           4123 non-null   object \n",
      " 16  daily_sale_id      3729 non-null   float64\n",
      " 17  store_id           4123 non-null   int64  \n",
      " 18  result_code        0 non-null      float64\n",
      " 19  result_msg         0 non-null      float64\n",
      " 20  extra_payment_id   0 non-null      float64\n",
      " 21  detail_status      4123 non-null   object \n",
      " 22  processing_status  4123 non-null   object \n",
      "dtypes: bool(1), float64(6), int64(5), object(11)\n",
      "memory usage: 712.8+ KB\n"
     ]
    }
   ],
   "source": [
    "import pandas as pd\n",
    "df = pd.read_csv('C:/Users/USER/Desktop/platform_sales/platform_sales/platform_sales_1.csv')\n",
    "df.info()"
   ]
  },
  {
   "cell_type": "code",
   "execution_count": 4,
   "id": "6020f754",
   "metadata": {},
   "outputs": [],
   "source": [
    "import pymysql\n",
    "\n",
    "connect = pymysql.connect(\n",
    "    host = 'localhost',\n",
    "    port = 3306,\n",
    "    user = 'root',\n",
    "    password = 'sng24678@'\n",
    ")\n",
    "\n",
    "cursor = connect.cursor()"
   ]
  },
  {
   "cell_type": "code",
   "execution_count": 5,
   "id": "cd4a4f2d",
   "metadata": {},
   "outputs": [],
   "source": [
    "cursor.execute(\"CREATE DATABASE EarlyPay\")\n",
    "connect.commit()"
   ]
  },
  {
   "cell_type": "code",
   "execution_count": 6,
   "id": "c6b2c560",
   "metadata": {},
   "outputs": [
    {
     "name": "stdout",
     "output_type": "stream",
     "text": [
      "('cafe_reviewdb',)\n",
      "('earlypay',)\n",
      "('information_schema',)\n",
      "('mysql',)\n",
      "('performance_schema',)\n",
      "('sakila',)\n",
      "('sys',)\n",
      "('world',)\n"
     ]
    }
   ],
   "source": [
    "cursor.execute(\"SHOW DATABASES\")\n",
    "for data in cursor:\n",
    "    print(data)"
   ]
  },
  {
   "cell_type": "code",
   "execution_count": 1,
   "id": "2aebd1c1",
   "metadata": {},
   "outputs": [],
   "source": [
    "import pymysql\n",
    "\n",
    "connect = pymysql.connect(\n",
    "    host = 'localhost',\n",
    "    port = 3306,\n",
    "    user = 'root',\n",
    "    password = 'sng24678@',\n",
    "    database = 'EarlyPay'\n",
    ")\n",
    "\n",
    "cursor = connect.cursor()"
   ]
  },
  {
   "cell_type": "code",
   "execution_count": 5,
   "id": "4eb609a2",
   "metadata": {},
   "outputs": [],
   "source": [
    "sql = \"\"\"CREATE TABLE platform_sales (\n",
    "        id int PRIMARY KEY,\n",
    "        created varchar(100),\n",
    "        modified varchar(100),\n",
    "        remark longtext,\n",
    "        num_approval varchar(100),\n",
    "        card_company varchar(100),\n",
    "        card_category varchar(100),\n",
    "        card_number varchar(100),\n",
    "        amount_sale int,\n",
    "        amount_fee int,\n",
    "        amount_deposit int,\n",
    "        is_canceled boolean,\n",
    "        sold_at varchar(100),\n",
    "        will_deposited_at varchar(100),\n",
    "        raw_data longtext,\n",
    "        platform varchar(100),\n",
    "        daily_sale_id int,\n",
    "        store_id int,\n",
    "        result_code varchar(100),\n",
    "        result_msg longtext,\n",
    "        extra_payment_id int,\n",
    "        detail_status varchar(100),\n",
    "        processing_status varchar(100))\n",
    "        \"\"\""
   ]
  },
  {
   "cell_type": "code",
   "execution_count": 6,
   "id": "71ba2db4",
   "metadata": {},
   "outputs": [],
   "source": [
    "cursor.execute(sql)\n",
    "connect.commit()"
   ]
  },
  {
   "cell_type": "code",
   "execution_count": 7,
   "id": "4bd254f9",
   "metadata": {},
   "outputs": [
    {
     "name": "stdout",
     "output_type": "stream",
     "text": [
      "('platform_sales',)\n"
     ]
    }
   ],
   "source": [
    "#TABLE 목록 확인\n",
    "cursor.execute(\"SHOW TABLES\")\n",
    "for data in cursor:\n",
    "    print(data)"
   ]
  },
  {
   "cell_type": "code",
   "execution_count": 8,
   "id": "01493cf7",
   "metadata": {},
   "outputs": [
    {
     "name": "stdout",
     "output_type": "stream",
     "text": [
      "('id', 'int', 'NO', 'PRI', None, '')\n",
      "('created', 'varchar(100)', 'YES', '', None, '')\n",
      "('modified', 'varchar(100)', 'YES', '', None, '')\n",
      "('remark', 'longtext', 'YES', '', None, '')\n",
      "('num_approval', 'varchar(100)', 'YES', '', None, '')\n",
      "('card_company', 'varchar(100)', 'YES', '', None, '')\n",
      "('card_category', 'varchar(100)', 'YES', '', None, '')\n",
      "('card_number', 'varchar(100)', 'YES', '', None, '')\n",
      "('amount_sale', 'int', 'YES', '', None, '')\n",
      "('amount_fee', 'int', 'YES', '', None, '')\n",
      "('amount_deposit', 'int', 'YES', '', None, '')\n",
      "('is_canceled', 'tinyint(1)', 'YES', '', None, '')\n",
      "('sold_at', 'varchar(100)', 'YES', '', None, '')\n",
      "('will_deposited_at', 'varchar(100)', 'YES', '', None, '')\n",
      "('raw_data', 'longtext', 'YES', '', None, '')\n",
      "('platform', 'varchar(100)', 'YES', '', None, '')\n",
      "('daily_sale_id', 'int', 'YES', '', None, '')\n",
      "('store_id', 'int', 'YES', '', None, '')\n",
      "('result_code', 'varchar(100)', 'YES', '', None, '')\n",
      "('result_msg', 'longtext', 'YES', '', None, '')\n",
      "('extra_payment_id', 'int', 'YES', '', None, '')\n",
      "('detail_status', 'varchar(100)', 'YES', '', None, '')\n",
      "('processing_status', 'varchar(100)', 'YES', '', None, '')\n"
     ]
    }
   ],
   "source": [
    "#Table 안의 컬럼 정보 확인\n",
    "cursor.execute(\"desc platform_sales\")\n",
    "for data in cursor:\n",
    "    print(data)"
   ]
  },
  {
   "cell_type": "code",
   "execution_count": 9,
   "id": "b02261a2",
   "metadata": {},
   "outputs": [],
   "source": [
    "import numpy as np\n",
    "import pandas as pd\n",
    "SQL = \"insert into platform_sales VALUES (%s,%s,%s,%s,%s,%s,%s,%s,%s,%s,%s,%s,%s,%s,%s,%s,%s,%s,%s,%s,%s,%s,%s)\"\n",
    "for i in range(1,50):\n",
    "    df = pd.read_csv(f\"C:/Users/USER/Desktop/platform_sales/platform_sales/platform_sales_{i}.csv\")\n",
    "    df = df.replace({np.nan: None})  # nan -> None\n",
    "    for idx in range(len(df)):\n",
    "        cursor.execute(SQL, tuple(df.values[idx]))\n",
    "connect.commit()                     "
   ]
  },
  {
   "cell_type": "code",
   "execution_count": 11,
   "id": "b7edca30",
   "metadata": {},
   "outputs": [
    {
     "name": "stderr",
     "output_type": "stream",
     "text": [
      "C:\\Users\\Public\\Documents\\ESTsoft\\CreatorTemp\\ipykernel_41532\\2427940936.py:3: UserWarning: pandas only supports SQLAlchemy connectable (engine/connection) or database string URI or sqlite3 DBAPI2 connection. Other DBAPI2 objects are not tested. Please consider using SQLAlchemy.\n",
      "  sample = pd.read_sql(query, connect)\n"
     ]
    },
    {
     "name": "stdout",
     "output_type": "stream",
     "text": [
      "(240298, 23)\n"
     ]
    }
   ],
   "source": [
    "query = \"Select * from platform_sales\"\n",
    "\n",
    "sample = pd.read_sql(query, connect)\n",
    "print(sample.shape)"
   ]
  },
  {
   "cell_type": "code",
   "execution_count": null,
   "id": "ff78abde",
   "metadata": {},
   "outputs": [],
   "source": [
    "connect.close()"
   ]
  }
 ],
 "metadata": {
  "kernelspec": {
   "display_name": "Python 3 (ipykernel)",
   "language": "python",
   "name": "python3"
  },
  "language_info": {
   "codemirror_mode": {
    "name": "ipython",
    "version": 3
   },
   "file_extension": ".py",
   "mimetype": "text/x-python",
   "name": "python",
   "nbconvert_exporter": "python",
   "pygments_lexer": "ipython3",
   "version": "3.9.7"
  }
 },
 "nbformat": 4,
 "nbformat_minor": 5
}
